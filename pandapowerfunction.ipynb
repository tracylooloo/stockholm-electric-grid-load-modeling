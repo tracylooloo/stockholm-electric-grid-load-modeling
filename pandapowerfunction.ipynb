{
 "cells": [
  {
   "cell_type": "code",
   "execution_count": 7,
   "metadata": {},
   "outputs": [
    {
     "ename": "NameError",
     "evalue": "name 'LP0all' is not defined",
     "output_type": "error",
     "traceback": [
      "\u001b[1;31m---------------------------------------------------------------------------\u001b[0m",
      "\u001b[1;31mNameError\u001b[0m                                 Traceback (most recent call last)",
      "\u001b[1;32m<ipython-input-7-b3fc9d3076ad>\u001b[0m in \u001b[0;36m<module>\u001b[1;34m()\u001b[0m\n\u001b[0;32m     56\u001b[0m         \u001b[0mLP0\u001b[0m\u001b[1;33m=\u001b[0m\u001b[0mnet\u001b[0m\u001b[1;33m.\u001b[0m\u001b[0mres_line\u001b[0m\u001b[1;33m.\u001b[0m\u001b[0mloc\u001b[0m\u001b[1;33m[\u001b[0m\u001b[1;36m0\u001b[0m\u001b[1;33m]\u001b[0m\u001b[1;33m.\u001b[0m\u001b[0mloading_percent\u001b[0m \u001b[1;31m#loadingpercent for line 0 (first line created)\u001b[0m\u001b[1;33m\u001b[0m\u001b[0m\n\u001b[0;32m     57\u001b[0m         \u001b[0mLP0all\u001b[0m\u001b[1;33m.\u001b[0m\u001b[0mappend\u001b[0m\u001b[1;33m(\u001b[0m\u001b[0mLP0\u001b[0m\u001b[1;33m)\u001b[0m\u001b[1;33m\u001b[0m\u001b[0m\n\u001b[1;32m---> 58\u001b[1;33m \u001b[0mprint\u001b[0m\u001b[1;33m(\u001b[0m\u001b[0mLP0all\u001b[0m\u001b[1;33m)\u001b[0m\u001b[1;33m\u001b[0m\u001b[0m\n\u001b[0m\u001b[0;32m     59\u001b[0m \u001b[1;33m\u001b[0m\u001b[0m\n\u001b[0;32m     60\u001b[0m \u001b[1;33m\u001b[0m\u001b[0m\n",
      "\u001b[1;31mNameError\u001b[0m: name 'LP0all' is not defined"
     ]
    }
   ],
   "source": [
    "def ppsolver(busp):\n",
    "    #pandapower solving\n",
    "    import pandapower as pp\n",
    "    sn_kva = 1000\n",
    "    c_in_nF_km =420\n",
    "    vn_kv_SK = 11\n",
    "    max_i_ka_9 = .35 #0.054\n",
    "    max_i_ka_12b = .31 #0.09271\n",
    "    max_i_ka_12 = .35 #0.09271\n",
    "    max_i_ka_15b = .35 #0.09141\n",
    "    max_i_ka_15 = .35 #0.09141\n",
    "    PF = .4\n",
    "    q_kvarSK09=138*PF\n",
    "    q_kvarSK12 = 39*PF\n",
    "    q_kvarSK12b = 759*PF\n",
    "    q_kvarSK15b = 897*PF\n",
    "    q_kvarSK15 = 1112*PF\n",
    "    net=pp.create_empty_network(\"HA_LF\",f_hz=50) #create an empty network #name, f_hz, sn_kva unsure of 50, 1000\n",
    "\n",
    "    ## BUSES (temp vn_kv)\n",
    "    busSK = pp.create_bus(net, name=\"Bus SK\", vn_kv=vn_kv_SK)\n",
    "    busSK09 = pp.create_bus(net, name=\"Bus SK09\", vn_kv=11)\n",
    "    #busSK12 = pp.create_bus(net, name=\"Bus SK12\", vn_kv=11)\n",
    "    #busSK12b = pp.create_bus(net, name=\"Bus SK12b\", vn_kv=11) #PQ OR PU??? #VOLTAGE LIMITS CANT BE SET FOR SLACK BUSES?\n",
    "    #busSK15b= pp.create_bus(net, name=\"Bus SK15b\", vn_kv=11)\n",
    "    #busSK15= pp.create_bus(net, name=\"Bus SK15\", vn_kv=11)\n",
    "\n",
    "\n",
    "    ## LINES change vals\n",
    "\n",
    "    b=3.6e-6 #b/2=c*10^-9*2pi*freq\n",
    "\n",
    "    #c_nf is line capacitance and Max_i is maximum thermal , max_i_ka=0.588, name=\"Line 1\")\n",
    "    lineM0=pp.create_line_from_parameters(net, busSK, busSK09, length_km=.119, r_ohm_per_km=.13, x_ohm_per_km=.08, c_nf_per_km=c_in_nF_km, max_i_ka= max_i_ka_9, name=\"Line M0\")\n",
    "    #lineL0=pp.create_line_from_parameters(net, busSK, busSK12b, length_km=.1305, r_ohm_per_km=.151, x_ohm_per_km=.087, c_nf_per_km=388.5, max_i_ka= max_i_ka_12b, name=\"Line L0\")\n",
    "    #lineL1=pp.create_line_from_parameters(net, busSK12b, busSK12, length_km=.300, r_ohm_per_km=.12777, x_ohm_per_km=.08115, c_nf_per_km=c_in_nF_km, max_i_ka= max_i_ka_12, name=\"Line L1\")\n",
    "    #lineI0=pp.create_line_from_parameters(net, busSK, busSK15b, length_km=.480, r_ohm_per_km=.13, x_ohm_per_km=.08, c_nf_per_km=c_in_nF_km, max_i_ka= max_i_ka_15b, name=\"Line I0\")\n",
    "    #lineI1=pp.create_line_from_parameters(net, busSK15b, busSK15, length_km=.480, r_ohm_per_km=.13, x_ohm_per_km=.08, c_nf_per_km=c_in_nF_km, max_i_ka= max_i_ka_15, name=\"Line I1\")\n",
    "\n",
    "    ## LOADS (not sure which buses get the loads) q=reactivepower\n",
    "    load09=pp.create_load(net, busSK09, p_kw= busp, q_kvar= q_kvarSK09,name=\"Load SK09\") #voltage deendent load? or normal load? scaling factor? \n",
    "    #load12=pp.create_load(net, busSK12, p_kw=39, q_kvar=q_kvarSK12,name=\"Load SK12\") \n",
    "    #load12b=pp.create_load(net, busSK12b, p_kw=759, q_kvar=q_kvarSK12b,name=\"Load SK12b\") \n",
    "    #load15b=pp.create_load(net, busSK15b, p_kw=897, q_kvar=q_kvarSK15b,name=\"Load SK15b\")\n",
    "    #load15=pp.create_load(net, busSK15, p_kw=1112, q_kvar=q_kvarSK15,name=\"Load SK15\")\n",
    "\n",
    "    ## EXTERNAL GRID Slack, change vals, assume top substation is slack\n",
    "    pp.create_ext_grid(net,busSK, voltage = 1.0, va_degree=0,name=\"SlackGrid\")\n",
    "\n",
    "    #PandaPowerResults (change look up by line name instead of index if possible)\n",
    "    pp.runpp(net)\n",
    "    net._ppc[\"internal\"][\"Ybus\"].todense()\n",
    "    #net.res_line\n",
    "    LP0=net.res_line.loc[0].loading_percent #loadingpercent for line 0 (first line created)\n",
    "        \n",
    "    return LP0\n",
    "\n",
    "\n"
   ]
  },
  {
   "cell_type": "code",
   "execution_count": null,
   "metadata": {},
   "outputs": [],
   "source": []
  },
  {
   "cell_type": "code",
   "execution_count": null,
   "metadata": {},
   "outputs": [],
   "source": []
  }
 ],
 "metadata": {
  "kernelspec": {
   "display_name": "Python 3",
   "language": "python",
   "name": "python3"
  },
  "language_info": {
   "codemirror_mode": {
    "name": "ipython",
    "version": 3
   },
   "file_extension": ".py",
   "mimetype": "text/x-python",
   "name": "python",
   "nbconvert_exporter": "python",
   "pygments_lexer": "ipython3",
   "version": "3.6.4"
  }
 },
 "nbformat": 4,
 "nbformat_minor": 2
}
